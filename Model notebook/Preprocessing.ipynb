{
  "nbformat": 4,
  "nbformat_minor": 0,
  "metadata": {
    "colab": {
      "provenance": []
    },
    "kernelspec": {
      "name": "python3",
      "display_name": "Python 3"
    },
    "language_info": {
      "name": "python"
    }
  },
  "cells": [
    {
      "cell_type": "markdown",
      "source": [
        "In this step, we preprocess the raw voice recordings by combining all audio files within each recording folder, then converting them into mel spectrograms. These spectrograms serve as input for our convolutional neural network.\n",
        "\n",
        "\n",
        "The final spectrograms are saved as `.png` images, organized by class (PD / NON PD)."
      ],
      "metadata": {
        "id": "h7cTWvHMYoru"
      }
    },
    {
      "cell_type": "code",
      "source": [
        "import os\n",
        "import librosa\n",
        "import numpy as np\n",
        "import matplotlib\n",
        "matplotlib.use('Agg')\n",
        "import matplotlib.pyplot as plt\n",
        "import librosa.display\n",
        "from multiprocessing import Pool, cpu_count\n",
        "from tqdm import tqdm\n",
        "import warnings\n",
        "\n",
        "warnings.filterwarnings(\"ignore\", category=UserWarning)\n",
        "warnings.filterwarnings(\"ignore\", category=FutureWarning)\n",
        "\n",
        "audio_exts = ('.wav', '.m4a', '.aac')\n",
        "\n",
        "def process_record(args):\n",
        "    patient_folder, record_folder, input_folder, output_folder = args\n",
        "\n",
        "    record_path = os.path.join(input_folder, patient_folder, record_folder)\n",
        "    voice_files = [f for f in os.listdir(record_path) if f.lower().endswith(audio_exts)]\n",
        "    if len(voice_files) == 0:\n",
        "        return f\"Skipped (no audio): {record_path}\"\n",
        "\n",
        "    concatenated_audio = []\n",
        "    sr = None\n",
        "\n",
        "    for voice_file in voice_files:\n",
        "        audio_path = os.path.join(record_path, voice_file)\n",
        "        try:\n",
        "            audio, current_sr = librosa.load(audio_path, sr=None)\n",
        "            if sr is None:\n",
        "                sr = current_sr\n",
        "            elif sr != current_sr:\n",
        "                return f\"Skipped (inconsistent sampling rates): {record_path}\"\n",
        "            concatenated_audio.append(audio)\n",
        "        except Exception as e:\n",
        "            return f\"Failed to load {audio_path}: {e}\"\n",
        "\n",
        "    if not concatenated_audio or sr is None or sr <= 0:\n",
        "        return f\"Skipped (no valid audio or sampling rate): {record_path}\"\n",
        "\n",
        "    concatenated_audio = np.concatenate(concatenated_audio)\n",
        "\n",
        "    mel_spec = librosa.feature.melspectrogram(y=concatenated_audio, sr=sr)\n",
        "    mel_spec_db = librosa.power_to_db(mel_spec, ref=np.max)\n",
        "\n",
        "    output_path = os.path.join(output_folder, patient_folder, record_folder)\n",
        "    os.makedirs(output_path, exist_ok=True)\n",
        "\n",
        "    img_path = os.path.join(output_path, 'spectrogram.png')\n",
        "    plt.figure(figsize=(10, 4))\n",
        "    plt.axis('off')\n",
        "    librosa.display.specshow(mel_spec_db, sr=sr, x_axis='time', y_axis='mel')\n",
        "    plt.tight_layout(pad=0)\n",
        "    plt.savefig(img_path, bbox_inches='tight', pad_inches=0)\n",
        "    plt.close()\n",
        "\n",
        "    return f\"Saved: {img_path}\"\n",
        "\n",
        "def concat_and_convert_parallel(input_folder, output_folder):\n",
        "    tasks = []\n",
        "\n",
        "    for patient_folder in os.listdir(input_folder):\n",
        "        patient_path = os.path.join(input_folder, patient_folder)\n",
        "        if not os.path.isdir(patient_path):\n",
        "            continue\n",
        "\n",
        "        for record_folder in os.listdir(patient_path):\n",
        "            record_path = os.path.join(patient_path, record_folder)\n",
        "            if not os.path.isdir(record_path):\n",
        "                continue\n",
        "\n",
        "            tasks.append((patient_folder, record_folder, input_folder, output_folder))\n",
        "\n",
        "    print(f\"Processing {len(tasks)} record folders using {cpu_count()} CPU cores...\")\n",
        "\n",
        "    with Pool(processes=cpu_count()) as pool:\n",
        "        for r in tqdm(pool.imap_unordered(process_record, tasks), total=len(tasks), desc=f\"Processing {os.path.basename(input_folder)}\"):\n",
        "            print(r)\n",
        "\n",
        "# Run for both folders\n",
        "concat_and_convert_parallel(\"/content/dataset/non pd\", \"/content/dataset/NONPD\")\n",
        "concat_and_convert_parallel(\"/content/dataset/pd\", \"/content/dataset/PD\")"
      ],
      "metadata": {
        "colab": {
          "base_uri": "https://localhost:8080/"
        },
        "id": "AnGJffEC_erP",
        "outputId": "abc6235f-68c3-4009-f0b1-04e9e5bd896a"
      },
      "execution_count": null,
      "outputs": [
        {
          "output_type": "stream",
          "name": "stdout",
          "text": [
            "Processing 54 record folders using 2 CPU cores...\n"
          ]
        },
        {
          "output_type": "stream",
          "name": "stderr",
          "text": [
            "Processing non pd:   2%|▏         | 1/54 [00:43<38:22, 43.43s/it]"
          ]
        },
        {
          "output_type": "stream",
          "name": "stdout",
          "text": [
            "Saved: /content/dataset/NONPD/patient 9 non pd/recording 3/spectrogram.png\n",
            "Saved: /content/dataset/NONPD/patient 9 non pd/recording 1/spectrogram.png\n"
          ]
        },
        {
          "output_type": "stream",
          "name": "stderr",
          "text": [
            "\rProcessing non pd:   6%|▌         | 3/54 [00:47<10:59, 12.92s/it]"
          ]
        },
        {
          "output_type": "stream",
          "name": "stdout",
          "text": [
            "Saved: /content/dataset/NONPD/patient 4 non pd/recording 1/spectrogram.png\n",
            "Saved: /content/dataset/NONPD/patient 9 non pd/recording 2/spectrogram.png\n"
          ]
        },
        {
          "output_type": "stream",
          "name": "stderr",
          "text": [
            "\rProcessing non pd:   9%|▉         | 5/54 [00:52<06:09,  7.54s/it]"
          ]
        },
        {
          "output_type": "stream",
          "name": "stdout",
          "text": [
            "Saved: /content/dataset/NONPD/patient 4 non pd/recording 2/spectrogram.png\n",
            "Saved: /content/dataset/NONPD/patient 4 non pd/recording 3/spectrogram.png\n"
          ]
        },
        {
          "output_type": "stream",
          "name": "stderr",
          "text": [
            "\rProcessing non pd:  13%|█▎        | 7/54 [00:53<03:29,  4.45s/it]"
          ]
        },
        {
          "output_type": "stream",
          "name": "stdout",
          "text": [
            "Skipped (inconsistent sampling rates): /content/dataset/non pd/patient 16 non pd/recording 3\n"
          ]
        },
        {
          "output_type": "stream",
          "name": "stderr",
          "text": [
            "\rProcessing non pd:  15%|█▍        | 8/54 [00:58<03:34,  4.65s/it]"
          ]
        },
        {
          "output_type": "stream",
          "name": "stdout",
          "text": [
            "Saved: /content/dataset/NONPD/patient 16 non pd/recording 1/spectrogram.png\n"
          ]
        },
        {
          "output_type": "stream",
          "name": "stderr",
          "text": [
            "\rProcessing non pd:  17%|█▋        | 9/54 [00:59<02:42,  3.61s/it]"
          ]
        },
        {
          "output_type": "stream",
          "name": "stdout",
          "text": [
            "Saved: /content/dataset/NONPD/patient 16 non pd/recording 2/spectrogram.png\n"
          ]
        },
        {
          "output_type": "stream",
          "name": "stderr",
          "text": [
            "\rProcessing non pd:  19%|█▊        | 10/54 [01:03<02:43,  3.72s/it]"
          ]
        },
        {
          "output_type": "stream",
          "name": "stdout",
          "text": [
            "Saved: /content/dataset/NONPD/patient 19 non pd/recording 1/spectrogram.png\n"
          ]
        },
        {
          "output_type": "stream",
          "name": "stderr",
          "text": [
            "\rProcessing non pd:  20%|██        | 11/54 [01:04<02:07,  2.96s/it]"
          ]
        },
        {
          "output_type": "stream",
          "name": "stdout",
          "text": [
            "Saved: /content/dataset/NONPD/patient 19 non pd/recording 3/spectrogram.png\n"
          ]
        },
        {
          "output_type": "stream",
          "name": "stderr",
          "text": [
            "\rProcessing non pd:  22%|██▏       | 12/54 [01:08<02:18,  3.30s/it]"
          ]
        },
        {
          "output_type": "stream",
          "name": "stdout",
          "text": [
            "Saved: /content/dataset/NONPD/patient 19 non pd/recording 2/spectrogram.png\n",
            "Saved: /content/dataset/NONPD/patient 2 non pd/recording 1/spectrogram.png\n"
          ]
        },
        {
          "output_type": "stream",
          "name": "stderr",
          "text": [
            "\rProcessing non pd:  26%|██▌       | 14/54 [01:13<02:02,  3.07s/it]"
          ]
        },
        {
          "output_type": "stream",
          "name": "stdout",
          "text": [
            "Saved: /content/dataset/NONPD/patient 10 non pd/recording 3/spectrogram.png\n"
          ]
        },
        {
          "output_type": "stream",
          "name": "stderr",
          "text": [
            "\rProcessing non pd:  28%|██▊       | 15/54 [01:14<01:38,  2.53s/it]"
          ]
        },
        {
          "output_type": "stream",
          "name": "stdout",
          "text": [
            "Saved: /content/dataset/NONPD/patient 10 non pd/recording 1/spectrogram.png\n"
          ]
        },
        {
          "output_type": "stream",
          "name": "stderr",
          "text": [
            "\rProcessing non pd:  30%|██▉       | 16/54 [01:16<01:33,  2.45s/it]"
          ]
        },
        {
          "output_type": "stream",
          "name": "stdout",
          "text": [
            "Saved: /content/dataset/NONPD/patient 10 non pd/recording 2/spectrogram.png\n"
          ]
        },
        {
          "output_type": "stream",
          "name": "stderr",
          "text": [
            "\rProcessing non pd:  31%|███▏      | 17/54 [01:18<01:22,  2.22s/it]"
          ]
        },
        {
          "output_type": "stream",
          "name": "stdout",
          "text": [
            "Saved: /content/dataset/NONPD/patient 18 non pd/recording 1/spectrogram.png\n"
          ]
        },
        {
          "output_type": "stream",
          "name": "stderr",
          "text": [
            "\rProcessing non pd:  33%|███▎      | 18/54 [01:21<01:24,  2.35s/it]"
          ]
        },
        {
          "output_type": "stream",
          "name": "stdout",
          "text": [
            "Saved: /content/dataset/NONPD/patient 18 non pd/recording 3/spectrogram.png\n"
          ]
        },
        {
          "output_type": "stream",
          "name": "stderr",
          "text": [
            "\rProcessing non pd:  35%|███▌      | 19/54 [01:23<01:21,  2.31s/it]"
          ]
        },
        {
          "output_type": "stream",
          "name": "stdout",
          "text": [
            "Saved: /content/dataset/NONPD/patient 18 non pd/recording 2/spectrogram.png\n"
          ]
        },
        {
          "output_type": "stream",
          "name": "stderr",
          "text": [
            "\rProcessing non pd:  37%|███▋      | 20/54 [01:26<01:24,  2.50s/it]"
          ]
        },
        {
          "output_type": "stream",
          "name": "stdout",
          "text": [
            "Failed to load /content/dataset/non pd/patient 15 non pd/recording 1/เอา 15(1) non pd.aac: \n",
            "Saved: /content/dataset/NONPD/patient 7 non pd/recording 1/spectrogram.png\n"
          ]
        },
        {
          "output_type": "stream",
          "name": "stderr",
          "text": [
            "\rProcessing non pd:  41%|████      | 22/54 [01:29<01:10,  2.19s/it]"
          ]
        },
        {
          "output_type": "stream",
          "name": "stdout",
          "text": [
            "Saved: /content/dataset/NONPD/patient 15 non pd/recording 2/spectrogram.png\n",
            "Saved: /content/dataset/NONPD/patient 15 non pd/recording 3/spectrogram.png\n"
          ]
        },
        {
          "output_type": "stream",
          "name": "stderr",
          "text": [
            "\rProcessing non pd:  44%|████▍     | 24/54 [01:33<01:01,  2.06s/it]"
          ]
        },
        {
          "output_type": "stream",
          "name": "stdout",
          "text": [
            "Saved: /content/dataset/NONPD/patient 3 non pd/recording 1/spectrogram.png\n"
          ]
        },
        {
          "output_type": "stream",
          "name": "stderr",
          "text": [
            "\rProcessing non pd:  46%|████▋     | 25/54 [01:34<00:49,  1.69s/it]"
          ]
        },
        {
          "output_type": "stream",
          "name": "stdout",
          "text": [
            "Saved: /content/dataset/NONPD/patient 12 non pd/recording 1/spectrogram.png\n"
          ]
        },
        {
          "output_type": "stream",
          "name": "stderr",
          "text": [
            "\rProcessing non pd:  48%|████▊     | 26/54 [01:38<01:07,  2.41s/it]"
          ]
        },
        {
          "output_type": "stream",
          "name": "stdout",
          "text": [
            "Saved: /content/dataset/NONPD/patient 12 non pd/recording 3/spectrogram.png\n"
          ]
        },
        {
          "output_type": "stream",
          "name": "stderr",
          "text": [
            "\rProcessing non pd:  50%|█████     | 27/54 [01:39<00:52,  1.96s/it]"
          ]
        },
        {
          "output_type": "stream",
          "name": "stdout",
          "text": [
            "Saved: /content/dataset/NONPD/patient 12 non pd/recording 2/spectrogram.png\n"
          ]
        },
        {
          "output_type": "stream",
          "name": "stderr",
          "text": [
            "\rProcessing non pd:  52%|█████▏    | 28/54 [01:43<01:07,  2.60s/it]"
          ]
        },
        {
          "output_type": "stream",
          "name": "stdout",
          "text": [
            "Saved: /content/dataset/NONPD/patient 11 non pd/recording 1/spectrogram.png\n"
          ]
        },
        {
          "output_type": "stream",
          "name": "stderr",
          "text": [
            "\rProcessing non pd:  54%|█████▎    | 29/54 [01:44<00:49,  1.96s/it]"
          ]
        },
        {
          "output_type": "stream",
          "name": "stdout",
          "text": [
            "Saved: /content/dataset/NONPD/patient 11 non pd/recording 3/spectrogram.png\n"
          ]
        },
        {
          "output_type": "stream",
          "name": "stderr",
          "text": [
            "Processing non pd:  57%|█████▋    | 31/54 [01:48<00:43,  1.88s/it]"
          ]
        },
        {
          "output_type": "stream",
          "name": "stdout",
          "text": [
            "Saved: /content/dataset/NONPD/patient 11 non pd/recording 2/spectrogram.png\n",
            "Saved: /content/dataset/NONPD/patient 13 non pd/recording 1/spectrogram.png\n"
          ]
        },
        {
          "output_type": "stream",
          "name": "stderr",
          "text": [
            "\rProcessing non pd:  59%|█████▉    | 32/54 [01:53<01:04,  2.95s/it]"
          ]
        },
        {
          "output_type": "stream",
          "name": "stdout",
          "text": [
            "Saved: /content/dataset/NONPD/patient 13 non pd/recording 3/spectrogram.png\n",
            "Saved: /content/dataset/NONPD/patient 13 non pd/recording 2/spectrogram.png\n"
          ]
        },
        {
          "output_type": "stream",
          "name": "stderr",
          "text": [
            "\rProcessing non pd:  63%|██████▎   | 34/54 [01:58<00:52,  2.62s/it]"
          ]
        },
        {
          "output_type": "stream",
          "name": "stdout",
          "text": [
            "Saved: /content/dataset/NONPD/patient 5 non pd/recording 1/spectrogram.png\n"
          ]
        },
        {
          "output_type": "stream",
          "name": "stderr",
          "text": [
            "\rProcessing non pd:  65%|██████▍   | 35/54 [01:58<00:38,  2.05s/it]"
          ]
        },
        {
          "output_type": "stream",
          "name": "stdout",
          "text": [
            "Saved: /content/dataset/NONPD/patient 5 non pd/recording 3/spectrogram.png\n"
          ]
        },
        {
          "output_type": "stream",
          "name": "stderr",
          "text": [
            "\rProcessing non pd:  67%|██████▋   | 36/54 [02:02<00:46,  2.61s/it]"
          ]
        },
        {
          "output_type": "stream",
          "name": "stdout",
          "text": [
            "Saved: /content/dataset/NONPD/patient 5 non pd/recording 2/spectrogram.png\n",
            "Saved: /content/dataset/NONPD/patient 17 non pd/recording 1/spectrogram.png\n"
          ]
        },
        {
          "output_type": "stream",
          "name": "stderr",
          "text": [
            "\rProcessing non pd:  70%|███████   | 38/54 [02:08<00:42,  2.65s/it]"
          ]
        },
        {
          "output_type": "stream",
          "name": "stdout",
          "text": [
            "Saved: /content/dataset/NONPD/patient 17 non pd/recording 2/spectrogram.png\n"
          ]
        },
        {
          "output_type": "stream",
          "name": "stderr",
          "text": [
            "\rProcessing non pd:  72%|███████▏  | 39/54 [02:08<00:32,  2.17s/it]"
          ]
        },
        {
          "output_type": "stream",
          "name": "stdout",
          "text": [
            "Saved: /content/dataset/NONPD/patient 17 non pd/recording 3/spectrogram.png\n"
          ]
        },
        {
          "output_type": "stream",
          "name": "stderr",
          "text": [
            "\rProcessing non pd:  74%|███████▍  | 40/54 [02:12<00:36,  2.62s/it]"
          ]
        },
        {
          "output_type": "stream",
          "name": "stdout",
          "text": [
            "Saved: /content/dataset/NONPD/patient 6 non pd/recording 1/spectrogram.png\n"
          ]
        },
        {
          "output_type": "stream",
          "name": "stderr",
          "text": [
            "\rProcessing non pd:  76%|███████▌  | 41/54 [02:13<00:27,  2.11s/it]"
          ]
        },
        {
          "output_type": "stream",
          "name": "stdout",
          "text": [
            "Saved: /content/dataset/NONPD/patient 6 non pd/recording 3/spectrogram.png\n"
          ]
        },
        {
          "output_type": "stream",
          "name": "stderr",
          "text": [
            "\rProcessing non pd:  78%|███████▊  | 42/54 [02:17<00:30,  2.52s/it]"
          ]
        },
        {
          "output_type": "stream",
          "name": "stdout",
          "text": [
            "Saved: /content/dataset/NONPD/patient 6 non pd/recording 2/spectrogram.png\n"
          ]
        },
        {
          "output_type": "stream",
          "name": "stderr",
          "text": [
            "\rProcessing non pd:  80%|███████▉  | 43/54 [02:20<00:30,  2.80s/it]"
          ]
        },
        {
          "output_type": "stream",
          "name": "stdout",
          "text": [
            "Saved: /content/dataset/NONPD/patient 1 non pd/recording 1/spectrogram.png\n"
          ]
        },
        {
          "output_type": "stream",
          "name": "stderr",
          "text": [
            "\rProcessing non pd:  81%|████████▏ | 44/54 [02:24<00:30,  3.09s/it]"
          ]
        },
        {
          "output_type": "stream",
          "name": "stdout",
          "text": [
            "Saved: /content/dataset/NONPD/patient 1 non pd/recording 3/spectrogram.png\n"
          ]
        },
        {
          "output_type": "stream",
          "name": "stderr",
          "text": [
            "\rProcessing non pd:  83%|████████▎ | 45/54 [02:26<00:25,  2.78s/it]"
          ]
        },
        {
          "output_type": "stream",
          "name": "stdout",
          "text": [
            "Saved: /content/dataset/NONPD/patient 1 non pd/recording 2/spectrogram.png\n"
          ]
        },
        {
          "output_type": "stream",
          "name": "stderr",
          "text": [
            "\rProcessing non pd:  85%|████████▌ | 46/54 [02:28<00:21,  2.71s/it]"
          ]
        },
        {
          "output_type": "stream",
          "name": "stdout",
          "text": [
            "Saved: /content/dataset/NONPD/patient 20 non pd/recording 1/spectrogram.png\n"
          ]
        },
        {
          "output_type": "stream",
          "name": "stderr",
          "text": [
            "\rProcessing non pd:  87%|████████▋ | 47/54 [02:31<00:17,  2.52s/it]"
          ]
        },
        {
          "output_type": "stream",
          "name": "stdout",
          "text": [
            "Saved: /content/dataset/NONPD/patient 20 non pd/recording 3/spectrogram.png\n"
          ]
        },
        {
          "output_type": "stream",
          "name": "stderr",
          "text": [
            "\rProcessing non pd:  89%|████████▉ | 48/54 [02:34<00:17,  2.88s/it]"
          ]
        },
        {
          "output_type": "stream",
          "name": "stdout",
          "text": [
            "Saved: /content/dataset/NONPD/patient 20 non pd/recording 2/spectrogram.png\n"
          ]
        },
        {
          "output_type": "stream",
          "name": "stderr",
          "text": [
            "\rProcessing non pd:  91%|█████████ | 49/54 [02:36<00:13,  2.60s/it]"
          ]
        },
        {
          "output_type": "stream",
          "name": "stdout",
          "text": [
            "Saved: /content/dataset/NONPD/patient 14 non pd/recording 1/spectrogram.png\n"
          ]
        },
        {
          "output_type": "stream",
          "name": "stderr",
          "text": [
            "\rProcessing non pd:  93%|█████████▎| 50/54 [02:39<00:10,  2.54s/it]"
          ]
        },
        {
          "output_type": "stream",
          "name": "stdout",
          "text": [
            "Saved: /content/dataset/NONPD/patient 14 non pd/recording 3/spectrogram.png\n"
          ]
        },
        {
          "output_type": "stream",
          "name": "stderr",
          "text": [
            "\rProcessing non pd:  94%|█████████▍| 51/54 [02:41<00:07,  2.36s/it]"
          ]
        },
        {
          "output_type": "stream",
          "name": "stdout",
          "text": [
            "Saved: /content/dataset/NONPD/patient 14 non pd/recording 2/spectrogram.png\n"
          ]
        },
        {
          "output_type": "stream",
          "name": "stderr",
          "text": [
            "\rProcessing non pd:  96%|█████████▋| 52/54 [02:43<00:05,  2.51s/it]"
          ]
        },
        {
          "output_type": "stream",
          "name": "stdout",
          "text": [
            "Saved: /content/dataset/NONPD/patient 8 non pd/recording 1/spectrogram.png\n"
          ]
        },
        {
          "output_type": "stream",
          "name": "stderr",
          "text": [
            "\rProcessing non pd:  98%|█████████▊| 53/54 [02:46<00:02,  2.64s/it]"
          ]
        },
        {
          "output_type": "stream",
          "name": "stdout",
          "text": [
            "Saved: /content/dataset/NONPD/patient 8 non pd/recording 3/spectrogram.png\n"
          ]
        },
        {
          "output_type": "stream",
          "name": "stderr",
          "text": [
            "Processing non pd: 100%|██████████| 54/54 [02:48<00:00,  3.13s/it]"
          ]
        },
        {
          "output_type": "stream",
          "name": "stdout",
          "text": [
            "Saved: /content/dataset/NONPD/patient 8 non pd/recording 2/spectrogram.png\n",
            "Processing 40 record folders using 2 CPU cores...\n"
          ]
        },
        {
          "output_type": "stream",
          "name": "stderr",
          "text": [
            "\n",
            "Processing pd:   5%|▌         | 2/40 [00:12<03:23,  5.36s/it]"
          ]
        },
        {
          "output_type": "stream",
          "name": "stdout",
          "text": [
            "Saved: /content/dataset/PD/patient 6 pd/recording 2/spectrogram.png\n",
            "Saved: /content/dataset/PD/patient 6 pd/recording 1/spectrogram.png\n"
          ]
        },
        {
          "output_type": "stream",
          "name": "stderr",
          "text": [
            "\rProcessing pd:   8%|▊         | 3/40 [00:16<02:49,  4.58s/it]"
          ]
        },
        {
          "output_type": "stream",
          "name": "stdout",
          "text": [
            "Saved: /content/dataset/PD/patient 15 pd/recording 1/spectrogram.png\n",
            "Saved: /content/dataset/PD/patient 15 pd/recording 3/spectrogram.png\n",
            "Skipped (no audio): /content/dataset/pd/patient 13 pd/recording 1\n"
          ]
        },
        {
          "output_type": "stream",
          "name": "stderr",
          "text": [
            "\rProcessing pd:  15%|█▌        | 6/40 [00:20<01:19,  2.34s/it]"
          ]
        },
        {
          "output_type": "stream",
          "name": "stdout",
          "text": [
            "Saved: /content/dataset/PD/patient 15 pd/recording 2/spectrogram.png\n"
          ]
        },
        {
          "output_type": "stream",
          "name": "stderr",
          "text": [
            "\rProcessing pd:  18%|█▊        | 7/40 [00:20<01:03,  1.91s/it]"
          ]
        },
        {
          "output_type": "stream",
          "name": "stdout",
          "text": [
            "Saved: /content/dataset/PD/patient 4 pd/recording 2/spectrogram.png\n"
          ]
        },
        {
          "output_type": "stream",
          "name": "stderr",
          "text": [
            "\rProcessing pd:  20%|██        | 8/40 [00:21<00:49,  1.54s/it]"
          ]
        },
        {
          "output_type": "stream",
          "name": "stdout",
          "text": [
            "Saved: /content/dataset/PD/patient 4 pd/recording 1/spectrogram.png\n"
          ]
        },
        {
          "output_type": "stream",
          "name": "stderr",
          "text": [
            "\rProcessing pd:  22%|██▎       | 9/40 [00:21<00:39,  1.28s/it]"
          ]
        },
        {
          "output_type": "stream",
          "name": "stdout",
          "text": [
            "Saved: /content/dataset/PD/patient 5 pd/recording 3/spectrogram.png\n"
          ]
        },
        {
          "output_type": "stream",
          "name": "stderr",
          "text": [
            "\rProcessing pd:  25%|██▌       | 10/40 [00:30<01:36,  3.23s/it]"
          ]
        },
        {
          "output_type": "stream",
          "name": "stdout",
          "text": [
            "Saved: /content/dataset/PD/patient 5 pd/recording 1/spectrogram.png\n"
          ]
        },
        {
          "output_type": "stream",
          "name": "stderr",
          "text": [
            "\rProcessing pd:  28%|██▊       | 11/40 [00:30<01:12,  2.50s/it]"
          ]
        },
        {
          "output_type": "stream",
          "name": "stdout",
          "text": [
            "Saved: /content/dataset/PD/patient 5 pd/recording 2/spectrogram.png\n"
          ]
        },
        {
          "output_type": "stream",
          "name": "stderr",
          "text": [
            "\rProcessing pd:  30%|███       | 12/40 [00:38<01:49,  3.91s/it]"
          ]
        },
        {
          "output_type": "stream",
          "name": "stdout",
          "text": [
            "Saved: /content/dataset/PD/patient 2 pd/Recording 3/spectrogram.png\n"
          ]
        },
        {
          "output_type": "stream",
          "name": "stderr",
          "text": [
            "\rProcessing pd:  32%|███▎      | 13/40 [00:39<01:23,  3.09s/it]"
          ]
        },
        {
          "output_type": "stream",
          "name": "stdout",
          "text": [
            "Saved: /content/dataset/PD/patient 2 pd/Recording 1/spectrogram.png\n"
          ]
        },
        {
          "output_type": "stream",
          "name": "stderr",
          "text": [
            "\rProcessing pd:  35%|███▌      | 14/40 [00:46<01:51,  4.29s/it]"
          ]
        },
        {
          "output_type": "stream",
          "name": "stdout",
          "text": [
            "Saved: /content/dataset/PD/patient 2 pd/Recording 2/spectrogram.png\n"
          ]
        },
        {
          "output_type": "stream",
          "name": "stderr",
          "text": [
            "Processing pd:  40%|████      | 16/40 [00:47<00:55,  2.32s/it]"
          ]
        },
        {
          "output_type": "stream",
          "name": "stdout",
          "text": [
            "Saved: /content/dataset/PD/patient 11 pd/recording 1/spectrogram.png\n",
            "Saved: /content/dataset/PD/patient 11 pd/recording 3/spectrogram.png\n"
          ]
        },
        {
          "output_type": "stream",
          "name": "stderr",
          "text": [
            "\rProcessing pd:  42%|████▎     | 17/40 [00:52<01:13,  3.19s/it]"
          ]
        },
        {
          "output_type": "stream",
          "name": "stdout",
          "text": [
            "Saved: /content/dataset/PD/patient 10 pd/recording 1/spectrogram.png\n"
          ]
        },
        {
          "output_type": "stream",
          "name": "stderr",
          "text": [
            "\rProcessing pd:  45%|████▌     | 18/40 [00:55<01:08,  3.12s/it]"
          ]
        },
        {
          "output_type": "stream",
          "name": "stdout",
          "text": [
            "Saved: /content/dataset/PD/patient 11 pd/recording 2/spectrogram.png\n"
          ]
        },
        {
          "output_type": "stream",
          "name": "stderr",
          "text": [
            "\rProcessing pd:  48%|████▊     | 19/40 [00:56<00:55,  2.62s/it]"
          ]
        },
        {
          "output_type": "stream",
          "name": "stdout",
          "text": [
            "Saved: /content/dataset/PD/patient 10 pd/recording 3/spectrogram.png\n"
          ]
        },
        {
          "output_type": "stream",
          "name": "stderr",
          "text": [
            "\rProcessing pd:  50%|█████     | 20/40 [00:59<00:50,  2.54s/it]"
          ]
        },
        {
          "output_type": "stream",
          "name": "stdout",
          "text": [
            "Saved: /content/dataset/PD/patient 10 pd/recording 2/spectrogram.png\n"
          ]
        },
        {
          "output_type": "stream",
          "name": "stderr",
          "text": [
            "\rProcessing pd:  52%|█████▎    | 21/40 [01:01<00:48,  2.54s/it]"
          ]
        },
        {
          "output_type": "stream",
          "name": "stdout",
          "text": [
            "Saved: /content/dataset/PD/patient 14 pd/recording 1/spectrogram.png\n"
          ]
        },
        {
          "output_type": "stream",
          "name": "stderr",
          "text": [
            "\rProcessing pd:  55%|█████▌    | 22/40 [01:04<00:44,  2.46s/it]"
          ]
        },
        {
          "output_type": "stream",
          "name": "stdout",
          "text": [
            "Saved: /content/dataset/PD/patient 14 pd/recording 3/spectrogram.png\n"
          ]
        },
        {
          "output_type": "stream",
          "name": "stderr",
          "text": [
            "\rProcessing pd:  57%|█████▊    | 23/40 [01:08<00:51,  3.04s/it]"
          ]
        },
        {
          "output_type": "stream",
          "name": "stdout",
          "text": [
            "Saved: /content/dataset/PD/patient 14 pd/recording 2/spectrogram.png\n"
          ]
        },
        {
          "output_type": "stream",
          "name": "stderr",
          "text": [
            "\rProcessing pd:  60%|██████    | 24/40 [01:12<00:52,  3.28s/it]"
          ]
        },
        {
          "output_type": "stream",
          "name": "stdout",
          "text": [
            "Saved: /content/dataset/PD/patient 8 pd/recording 1/spectrogram.png\n"
          ]
        },
        {
          "output_type": "stream",
          "name": "stderr",
          "text": [
            "\rProcessing pd:  62%|██████▎   | 25/40 [01:15<00:50,  3.39s/it]"
          ]
        },
        {
          "output_type": "stream",
          "name": "stdout",
          "text": [
            "Saved: /content/dataset/PD/patient 8 pd/recording 3/spectrogram.png\n"
          ]
        },
        {
          "output_type": "stream",
          "name": "stderr",
          "text": [
            "\rProcessing pd:  65%|██████▌   | 26/40 [01:20<00:50,  3.62s/it]"
          ]
        },
        {
          "output_type": "stream",
          "name": "stdout",
          "text": [
            "Saved: /content/dataset/PD/patient 8 pd/recording 2/spectrogram.png\n"
          ]
        },
        {
          "output_type": "stream",
          "name": "stderr",
          "text": [
            "\rProcessing pd:  68%|██████▊   | 27/40 [01:23<00:46,  3.61s/it]"
          ]
        },
        {
          "output_type": "stream",
          "name": "stdout",
          "text": [
            "Saved: /content/dataset/PD/patient 3 pd/Recording 1/spectrogram.png\n"
          ]
        },
        {
          "output_type": "stream",
          "name": "stderr",
          "text": [
            "\rProcessing pd:  70%|███████   | 28/40 [01:28<00:46,  3.90s/it]"
          ]
        },
        {
          "output_type": "stream",
          "name": "stdout",
          "text": [
            "Saved: /content/dataset/PD/patient 3 pd/Recording 2/spectrogram.png\n"
          ]
        },
        {
          "output_type": "stream",
          "name": "stderr",
          "text": [
            "\rProcessing pd:  72%|███████▎  | 29/40 [01:28<00:31,  2.91s/it]"
          ]
        },
        {
          "output_type": "stream",
          "name": "stdout",
          "text": [
            "Saved: /content/dataset/PD/patient 7 pd/recording 1/spectrogram.png\n"
          ]
        },
        {
          "output_type": "stream",
          "name": "stderr",
          "text": [
            "\rProcessing pd:  75%|███████▌  | 30/40 [01:34<00:36,  3.68s/it]"
          ]
        },
        {
          "output_type": "stream",
          "name": "stdout",
          "text": [
            "Saved: /content/dataset/PD/patient 7 pd/recording 3/spectrogram.png\n"
          ]
        },
        {
          "output_type": "stream",
          "name": "stderr",
          "text": [
            "\rProcessing pd:  78%|███████▊  | 31/40 [01:35<00:25,  2.88s/it]"
          ]
        },
        {
          "output_type": "stream",
          "name": "stdout",
          "text": [
            "Saved: /content/dataset/PD/patient 7 pd/recording 2/spectrogram.png\n"
          ]
        },
        {
          "output_type": "stream",
          "name": "stderr",
          "text": [
            "\rProcessing pd:  80%|████████  | 32/40 [01:36<00:18,  2.34s/it]"
          ]
        },
        {
          "output_type": "stream",
          "name": "stdout",
          "text": [
            "Saved: /content/dataset/PD/patient 12 pd/recording 2/spectrogram.png\n"
          ]
        },
        {
          "output_type": "stream",
          "name": "stderr",
          "text": [
            "\rProcessing pd:  82%|████████▎ | 33/40 [01:40<00:19,  2.73s/it]"
          ]
        },
        {
          "output_type": "stream",
          "name": "stdout",
          "text": [
            "Saved: /content/dataset/PD/patient 12 pd/recording 1/spectrogram.png\n"
          ]
        },
        {
          "output_type": "stream",
          "name": "stderr",
          "text": [
            "\rProcessing pd:  85%|████████▌ | 34/40 [01:41<00:14,  2.41s/it]"
          ]
        },
        {
          "output_type": "stream",
          "name": "stdout",
          "text": [
            "Saved: /content/dataset/PD/patient 9 pd/recording 1/spectrogram.png\n"
          ]
        },
        {
          "output_type": "stream",
          "name": "stderr",
          "text": [
            "\rProcessing pd:  88%|████████▊ | 35/40 [01:45<00:14,  2.81s/it]"
          ]
        },
        {
          "output_type": "stream",
          "name": "stdout",
          "text": [
            "Saved: /content/dataset/PD/patient 9 pd/recording 3/spectrogram.png\n"
          ]
        },
        {
          "output_type": "stream",
          "name": "stderr",
          "text": [
            "\rProcessing pd:  90%|█████████ | 36/40 [01:48<00:11,  2.88s/it]"
          ]
        },
        {
          "output_type": "stream",
          "name": "stdout",
          "text": [
            "Saved: /content/dataset/PD/patient 9 pd/recording 2/spectrogram.png\n"
          ]
        },
        {
          "output_type": "stream",
          "name": "stderr",
          "text": [
            "\rProcessing pd:  92%|█████████▎| 37/40 [01:53<00:10,  3.46s/it]"
          ]
        },
        {
          "output_type": "stream",
          "name": "stdout",
          "text": [
            "Saved: /content/dataset/PD/patient 1 pd/recording 3/spectrogram.png\n"
          ]
        },
        {
          "output_type": "stream",
          "name": "stderr",
          "text": [
            "\rProcessing pd:  95%|█████████▌| 38/40 [01:53<00:05,  2.58s/it]"
          ]
        },
        {
          "output_type": "stream",
          "name": "stdout",
          "text": [
            "Saved: /content/dataset/PD/patient 1 pd/recording 1/spectrogram.png\n"
          ]
        },
        {
          "output_type": "stream",
          "name": "stderr",
          "text": [
            "\rProcessing pd:  98%|█████████▊| 39/40 [01:57<00:02,  2.92s/it]"
          ]
        },
        {
          "output_type": "stream",
          "name": "stdout",
          "text": [
            "Saved: /content/dataset/PD/patient 1 pd/recording 4/spectrogram.png\n"
          ]
        },
        {
          "output_type": "stream",
          "name": "stderr",
          "text": [
            "Processing pd: 100%|██████████| 40/40 [01:57<00:00,  2.95s/it]"
          ]
        },
        {
          "output_type": "stream",
          "name": "stdout",
          "text": [
            "Saved: /content/dataset/PD/patient 1 pd/recording 2/spectrogram.png\n"
          ]
        },
        {
          "output_type": "stream",
          "name": "stderr",
          "text": [
            "\n"
          ]
        }
      ]
    }
  ]
}